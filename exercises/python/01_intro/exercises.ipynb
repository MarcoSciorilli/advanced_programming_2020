{
 "cells": [
  {
   "cell_type": "markdown",
   "metadata": {},
   "source": [
    "### print the list `lst` sorted in descending order. `lst` must not be modified"
   ]
  },
  {
   "cell_type": "code",
   "execution_count": 94,
   "metadata": {},
   "outputs": [],
   "source": [
    "lst = [12,\n",
    "       41,\n",
    "       0,\n",
    "       -5,\n",
    "       -9,\n",
    "       34,\n",
    "       12,\n",
    "       5,] # you can add , also to the last element (i.e., after each element)"
   ]
  },
  {
   "cell_type": "code",
   "execution_count": 16,
   "metadata": {},
   "outputs": [
    {
     "name": "stdout",
     "output_type": "stream",
     "text": [
      "[41, 34, 12, 12, 5, 0, -5, -9]\n"
     ]
    }
   ],
   "source": [
    "\n",
    "print(sorted(lst, reverse=True))\n"
   ]
  },
  {
   "cell_type": "markdown",
   "metadata": {},
   "source": [
    "### print the **absolute value** of the elements`lst` sorted in ascending order.\n",
    "### Hint: you can use the `abs` function"
   ]
  },
  {
   "cell_type": "code",
   "execution_count": 95,
   "metadata": {},
   "outputs": [
    {
     "data": {
      "text/plain": [
       "[0, -5, 5, -9, 12, 12, 34, 41]"
      ]
     },
     "execution_count": 95,
     "metadata": {},
     "output_type": "execute_result"
    }
   ],
   "source": [
    "sorted(lst, key=abs)"
   ]
  },
  {
   "cell_type": "markdown",
   "metadata": {},
   "source": [
    "### read a string from input, print the number of non-repeated chars "
   ]
  },
  {
   "cell_type": "code",
   "execution_count": 57,
   "metadata": {},
   "outputs": [
    {
     "name": "stdout",
     "output_type": "stream",
     "text": [
      "write a string of char:cannnne\n",
      "3\n"
     ]
    }
   ],
   "source": [
    "string = input(\"write string of char:\")\n",
    "print(len(set(string)))"
   ]
  },
  {
   "cell_type": "markdown",
   "metadata": {},
   "source": [
    "### Use the pythonic way to iterate over `lst` such that inside the `for` loop you have both the index and the corresponding element in order to generate the following output\n",
    "\n",
    "```\n",
    "lst[0] = 12\n",
    "lst[1] = 41\n",
    "lst[2] = 0\n",
    "lst[3] = -5\n",
    "lst[4] = -9\n",
    "lst[5] = 34\n",
    "lst[6] = 12\n",
    "lst[7] = 5\n",
    "```"
   ]
  },
  {
   "cell_type": "code",
   "execution_count": 98,
   "metadata": {},
   "outputs": [
    {
     "name": "stdout",
     "output_type": "stream",
     "text": [
      "lst[0] = 12\n",
      "lst[1] = 41\n",
      "lst[2] = 0\n",
      "lst[3] = -5\n",
      "lst[4] = -9\n",
      "lst[5] = 34\n",
      "lst[6] = 12\n",
      "lst[7] = 5\n"
     ]
    }
   ],
   "source": [
    "for i,num in enumerate(lst):\n",
    "    print(\"lst[\",i,\"] = \",num,sep='')"
   ]
  },
  {
   "cell_type": "markdown",
   "metadata": {},
   "source": [
    "### Transform the following for loop into a list comp"
   ]
  },
  {
   "cell_type": "code",
   "execution_count": 74,
   "metadata": {},
   "outputs": [
    {
     "data": {
      "text/plain": [
       "[1, 9, 25, 49, 81]"
      ]
     },
     "execution_count": 74,
     "metadata": {},
     "output_type": "execute_result"
    }
   ],
   "source": [
    "odd_squares = []\n",
    "for i in range(10):\n",
    "    if i%2 != 0:\n",
    "        odd_squares.append(i**2)\n",
    "odd_squares"
   ]
  },
  {
   "cell_type": "code",
   "execution_count": 75,
   "metadata": {},
   "outputs": [
    {
     "data": {
      "text/plain": [
       "[[1], [9], [25], [49], [81]]"
      ]
     },
     "execution_count": 75,
     "metadata": {},
     "output_type": "execute_result"
    }
   ],
   "source": [
    "odd_squares = [[i**2] for i in range(10) if i%2 != 0]\n",
    "\n",
    "odd_squares"
   ]
  },
  {
   "cell_type": "markdown",
   "metadata": {},
   "source": [
    "### clear the content of `lst` such that also all other references are cleared as well###"
   ]
  },
  {
   "cell_type": "code",
   "execution_count": 80,
   "metadata": {},
   "outputs": [],
   "source": [
    "other_lst = lst\n",
    "a = lst"
   ]
  },
  {
   "cell_type": "code",
   "execution_count": 102,
   "metadata": {},
   "outputs": [
    {
     "data": {
      "text/plain": [
       "[]"
      ]
     },
     "execution_count": 102,
     "metadata": {},
     "output_type": "execute_result"
    }
   ],
   "source": [
    "del lst[:]\n",
    "lst"
   ]
  },
  {
   "cell_type": "markdown",
   "metadata": {},
   "source": [
    "### implement the following functions. Try to do it with just one line of code"
   ]
  },
  {
   "cell_type": "code",
   "execution_count": 113,
   "metadata": {},
   "outputs": [
    {
     "name": "stdout",
     "output_type": "stream",
     "text": [
      "write string of char:itopinonavevanonipoti\n",
      "True\n"
     ]
    }
   ],
   "source": [
    "def is_palindrome(string):     \n",
    "    '''\n",
    "    returns True if string is palindrome, False otherwise\n",
    "    '''\n",
    "    return string==\"\".join(reversed(string))\n",
    "\n",
    "string = input(\"write string of char:\")\n",
    "print(is_palindrome(string))"
   ]
  },
  {
   "cell_type": "code",
   "execution_count": 11,
   "metadata": {},
   "outputs": [
    {
     "name": "stdout",
     "output_type": "stream",
     "text": [
      "write string of char:0\n",
      "{'0': 1}\n"
     ]
    }
   ],
   "source": [
    "def counter_dict(sequence):     \n",
    "    '''\n",
    "    count how many times an element is present in the sequence var\n",
    "    and returns a dict\n",
    "    '''\n",
    "    return  {k: v for k, v in zip(sequence, map(sequence.count, sequence))}\n",
    "\n",
    "string = input(\"write string of char:\")\n",
    "print(counter_dict(string))"
   ]
  },
  {
   "cell_type": "code",
   "execution_count": 17,
   "metadata": {},
   "outputs": [
    {
     "name": "stdout",
     "output_type": "stream",
     "text": [
      "write string of char:kkkkkkkkkkkkkkksahjshfjhjgahsgdiugweoguhsoigajgaldshgsguiweu0pqigurqngdjavnsjkdmdsmoIAFU8349U65YW80943U026Y2H46YU53HT2UGNJV\n",
      "('k', 16)\n"
     ]
    }
   ],
   "source": [
    "def get_most_frequent(sequence):\n",
    "    '''\n",
    "    returns a tuple with the most frequent object in the sequence with the \n",
    "    corresponing number\n",
    "    '''\n",
    "    from collections import Counter\n",
    "\n",
    "    return max(counter_dict(sequence).items(), key=lambda x: x[1])\n",
    "\n",
    "string = input(\"write string of char:\")\n",
    "print(get_most_frequent(string))"
   ]
  },
  {
   "cell_type": "code",
   "execution_count": 20,
   "metadata": {},
   "outputs": [
    {
     "name": "stdout",
     "output_type": "stream",
     "text": [
      "write string of char:mastrodongesualdo\n",
      "{'a': 2, 's': 2, 'o': 3, 'd': 2}\n"
     ]
    }
   ],
   "source": [
    "def which_duplicates(sequence):\n",
    "    '''\n",
    "    return a dict containing the repeted objects and the number of repetitions\n",
    "    '''\n",
    "    return  {k: v for k, v in zip(sequence, map(sequence.count, sequence)) if v>1}\n",
    "\n",
    "string = input(\"write string of char:\")\n",
    "print(which_duplicates(string))"
   ]
  },
  {
   "cell_type": "code",
   "execution_count": null,
   "metadata": {},
   "outputs": [],
   "source": []
  }
 ],
 "metadata": {
  "kernelspec": {
   "display_name": "Python 3",
   "language": "python",
   "name": "python3"
  },
  "language_info": {
   "codemirror_mode": {
    "name": "ipython",
    "version": 3
   },
   "file_extension": ".py",
   "mimetype": "text/x-python",
   "name": "python",
   "nbconvert_exporter": "python",
   "pygments_lexer": "ipython3",
   "version": "3.8.5"
  }
 },
 "nbformat": 4,
 "nbformat_minor": 4
}
